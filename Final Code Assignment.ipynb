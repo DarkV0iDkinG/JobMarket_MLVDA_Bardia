{
 "cells": [
  {
   "cell_type": "code",
   "execution_count": 6,
   "id": "88fb63ef-f86f-4f08-b418-49c0264fccff",
   "metadata": {},
   "outputs": [],
   "source": [
    "# 1. Libraries\n",
    "import pandas as pd\n",
    "import numpy as np\n",
    "import matplotlib.pyplot as plt\n",
    "import seaborn as sns\n",
    "import re\n",
    "from sklearn.model_selection import train_test_split\n",
    "from sklearn.feature_extraction.text import TfidfVectorizer\n",
    "from sklearn.preprocessing import LabelEncoder\n",
    "from sklearn.ensemble import RandomForestClassifier\n",
    "from sklearn.metrics import classification_report, confusion_matrix, accuracy_score"
   ]
  },
  {
   "cell_type": "code",
   "execution_count": 7,
   "id": "7bf0c830-87a0-4923-aade-4ca45a86899a",
   "metadata": {},
   "outputs": [
    {
     "name": "stdout",
     "output_type": "stream",
     "text": [
      "✅ Dataset loaded successfully! Rows: 735\n"
     ]
    }
   ],
   "source": [
    "# 2. Load Dataset\n",
    "df = pd.read_csv(\"jobs_dataset.csv\", low_memory=False)\n",
    "print(\"✅ Dataset loaded successfully! Rows:\", len(df))"
   ]
  },
  {
   "cell_type": "code",
   "execution_count": 8,
   "id": "c463544d-ffb4-4ddf-84c7-4c1f6622bfd7",
   "metadata": {},
   "outputs": [],
   "source": [
    "# 3. Clean Columns\n",
    "df.columns = df.columns.str.strip().str.lower()\n",
    "df = df.loc[:, ~df.columns.str.contains('^unnamed')]\n",
    "df = df.drop_duplicates()"
   ]
  },
  {
   "cell_type": "code",
   "execution_count": 9,
   "id": "f6178f30-ddd8-4b29-af8d-9071dbc9dc58",
   "metadata": {},
   "outputs": [
    {
     "name": "stdout",
     "output_type": "stream",
     "text": [
      " Missing values handled.\n"
     ]
    }
   ],
   "source": [
    "# 4. Handle Missing Values\n",
    "df = df.fillna(\"Unknown\")\n",
    "print(\" Missing values handled.\")"
   ]
  },
  {
   "cell_type": "code",
   "execution_count": 5,
   "id": "2a0515d4-a95a-42d2-bca3-f7dd6f3f8761",
   "metadata": {},
   "outputs": [],
   "source": [
    "# 5. Combine Job Type Columns\n",
    "job_cols = [c for c in df.columns if 'jobtype' in c]\n",
    "if job_cols:\n",
    "    df['job_type'] = df[job_cols].bfill(axis=1).iloc[:, 0]\n",
    "else:\n",
    "    df['job_type'] = \"Unknown\"\n",
    "\n",
    "df['job_type'] = df['job_type'].str.title().replace({\n",
    "    'Full Time': 'Full-Time',\n",
    "    'Part Time': 'Part-Time'\n",
    "})"
   ]
  },
  {
   "cell_type": "code",
   "execution_count": 6,
   "id": "eb30d01a-2bc0-4802-9c71-7d92454a20af",
   "metadata": {},
   "outputs": [],
   "source": [
    "# 6. Clean Salary Column\n",
    "def extract_salary(s):\n",
    "    if pd.isna(s):\n",
    "        return np.nan\n",
    "    text = str(s).lower()\n",
    "    if not any(k in text for k in ['$', 'year', 'month', 'hour']):\n",
    "        return np.nan\n",
    "    nums = re.findall(r\"\\d{2,7}\", text.replace(\",\", \"\"))\n",
    "    if not nums:\n",
    "        return np.nan\n",
    "    avg = np.mean(list(map(int, nums)))\n",
    "    if avg < 800 or avg > 500000:\n",
    "        return np.nan\n",
    "    return avg\n",
    "\n",
    "df['salary_clean'] = df['salary'].apply(extract_salary)\n",
    "df = df[df['salary_clean'].notna()]"
   ]
  },
  {
   "cell_type": "code",
   "execution_count": 7,
   "id": "5a40c8f6-fa06-4bf4-865c-4d9b3b7d645a",
   "metadata": {},
   "outputs": [],
   "source": [
    "# 7. Salary Category\n",
    "df['salary_category'] = pd.qcut(df['salary_clean'], 3, labels=['Low', 'Medium', 'High'])"
   ]
  },
  {
   "cell_type": "code",
   "execution_count": 9,
   "id": "23ca4a63-089e-48f8-b798-39d6546dc8ca",
   "metadata": {},
   "outputs": [],
   "source": [
    "# 8. Encode Job Type for ML\n",
    "le = LabelEncoder()\n",
    "df['job_type_encoded'] = le.fit_transform(df['job_type'])"
   ]
  },
  {
   "cell_type": "code",
   "execution_count": 10,
   "id": "7d2e6aed-f70a-4754-8b5c-3fcececcfca7",
   "metadata": {},
   "outputs": [],
   "source": [
    "# 9. Text Vectorization\n",
    "text_features = ['description', 'positionname']\n",
    "df['combined_text'] = df[text_features].astype(str).agg(' '.join, axis=1)\n",
    "vectorizer = TfidfVectorizer(stop_words='english', max_features=500)\n",
    "X_text = vectorizer.fit_transform(df['combined_text'])"
   ]
  },
  {
   "cell_type": "code",
   "execution_count": 11,
   "id": "66c2651b-2048-44df-8b59-dcad1e27cb11",
   "metadata": {},
   "outputs": [],
   "source": [
    "# 10. Numeric Features\n",
    "numeric_cols = ['salary_clean']\n",
    "X_num = df[numeric_cols].values"
   ]
  },
  {
   "cell_type": "code",
   "execution_count": 12,
   "id": "4ac2f411-6f84-4452-bda9-b6a2be220bed",
   "metadata": {},
   "outputs": [],
   "source": [
    "# 11. Combine Features\n",
    "from scipy.sparse import hstack\n",
    "from scipy import sparse\n",
    "\n",
    "X = hstack((X_text, sparse.csr_matrix(X_num)))\n",
    "y = df['job_type_encoded']"
   ]
  },
  {
   "cell_type": "code",
   "execution_count": 13,
   "id": "9b174ba4-600e-491f-b5a3-c62a2dc5e849",
   "metadata": {},
   "outputs": [],
   "source": [
    "# 12. Train/Test Split\n",
    "X_train, X_test, y_train, y_test = train_test_split(\n",
    "    X, y, test_size=0.2, random_state=42\n",
    ")"
   ]
  },
  {
   "cell_type": "code",
   "execution_count": 14,
   "id": "c310c944-d3ee-4b4d-8d72-68f316c9d0b2",
   "metadata": {},
   "outputs": [],
   "source": [
    "# 13. Random Forest Model\n",
    "rf = RandomForestClassifier(n_estimators=100, random_state=42)\n",
    "rf.fit(X_train, y_train)\n",
    "y_pred = rf.predict(X_test)"
   ]
  },
  {
   "cell_type": "code",
   "execution_count": 15,
   "id": "a35e8d9b-216c-4940-9e53-afe34aea7a2c",
   "metadata": {},
   "outputs": [
    {
     "name": "stdout",
     "output_type": "stream",
     "text": [
      "\n",
      "📊 Classification Report:\n",
      "              precision    recall  f1-score   support\n",
      "\n",
      "           0       0.00      0.00      0.00         1\n",
      "           1       0.72      0.91      0.80        56\n",
      "           2       0.00      0.00      0.00         2\n",
      "           5       0.75      0.47      0.58        32\n",
      "\n",
      "    accuracy                           0.73        91\n",
      "   macro avg       0.37      0.34      0.35        91\n",
      "weighted avg       0.71      0.73      0.70        91\n",
      "\n",
      "✅ Accuracy: 72.53 %\n"
     ]
    },
    {
     "name": "stderr",
     "output_type": "stream",
     "text": [
      "E:\\Anaconda\\Lib\\site-packages\\sklearn\\metrics\\_classification.py:1731: UndefinedMetricWarning: Precision is ill-defined and being set to 0.0 in labels with no predicted samples. Use `zero_division` parameter to control this behavior.\n",
      "  _warn_prf(average, modifier, f\"{metric.capitalize()} is\", result.shape[0])\n",
      "E:\\Anaconda\\Lib\\site-packages\\sklearn\\metrics\\_classification.py:1731: UndefinedMetricWarning: Precision is ill-defined and being set to 0.0 in labels with no predicted samples. Use `zero_division` parameter to control this behavior.\n",
      "  _warn_prf(average, modifier, f\"{metric.capitalize()} is\", result.shape[0])\n",
      "E:\\Anaconda\\Lib\\site-packages\\sklearn\\metrics\\_classification.py:1731: UndefinedMetricWarning: Precision is ill-defined and being set to 0.0 in labels with no predicted samples. Use `zero_division` parameter to control this behavior.\n",
      "  _warn_prf(average, modifier, f\"{metric.capitalize()} is\", result.shape[0])\n"
     ]
    }
   ],
   "source": [
    "# 14. Evaluation\n",
    "print(\"\\n📊 Classification Report:\")\n",
    "print(classification_report(y_test, y_pred))\n",
    "print(\"✅ Accuracy:\", round(accuracy_score(y_test, y_pred)*100, 2), \"%\")\n"
   ]
  },
  {
   "cell_type": "code",
   "execution_count": 17,
   "id": "f7e577a5-905b-4865-bfac-869bba0c8457",
   "metadata": {},
   "outputs": [
    {
     "name": "stdout",
     "output_type": "stream",
     "text": [
      "\n",
      " Exported cleaned Tableau dataset successfully!\n",
      " File: cleaned_jobs_tableau_FINAL_PRO.csv\n",
      "                         company                 location  \\\n",
      "0                         Google            San Bruno, CA   \n",
      "1                         BAXTER      Milwaukee, WI 53214   \n",
      "3                           Meta       Bellevue, WA 98005   \n",
      "5                         Google            Cambridge, MA   \n",
      "6                  JPMorganChase   Jacksonville, FL 32256   \n",
      "7            Comcast Corporation  San Francisco, CA 94108   \n",
      "8   Riverside Research Institute    Beavercreek, OH 45431   \n",
      "9                    Mayo Clinic      Rochester, MN 55901   \n",
      "15                   Mayo Clinic      Rochester, MN 55901   \n",
      "22      Iambic Therapeutics, Inc            San Diego, CA   \n",
      "\n",
      "                                          description  \\\n",
      "0   Note: By applying to this position you will ha...   \n",
      "1   This is where you save and sustain lives\\n\\nAt...   \n",
      "3   Bellevue, WA • Full Time\\nMeta\\nSoftware Engin...   \n",
      "5   Note: By applying to this position you will ha...   \n",
      "6   JOB DESCRIPTION\\n\\nLeverage your technical exp...   \n",
      "7   Universal Ads, a part of Comcast, enables any ...   \n",
      "8   Riverside Overview: Riverside Research is an i...   \n",
      "9   Why Mayo Clinic\\n\\nMayo Clinic is top-ranked i...   \n",
      "15  Why Mayo Clinic\\n\\nMayo Clinic is top-ranked i...   \n",
      "22  JOB SUMMARY\\n\\nIambic Therapeutics is hiring a...   \n",
      "\n",
      "                                         positionname  \\\n",
      "0     Senior Data Scientist, Research, YouTube Search   \n",
      "1                 Senior AI Engineer - Data Scientist   \n",
      "3                 Software Engineer, Machine Learning   \n",
      "5    Staff Data Scientist, Research, Search Platforms   \n",
      "6      Applied AI/ML, Senior Associate - Gen AI & LLM   \n",
      "7           Executive Director, ML and Ad Marketplace   \n",
      "8                                      AI/ML Engineer   \n",
      "9                    Senior Software Engineer - AI/ML   \n",
      "15               Senior Data Science Analyst - Remote   \n",
      "22  Machine Learning Scientist II/Sr (Biomedical I...   \n",
      "\n",
      "                              salary  salary_clean salary_category   job_type  \n",
      "0         $166,000 - $244,000 a year     205000.00            High  Full-Time  \n",
      "1         $112,000 - $154,000 a year     133000.00             Low  Full-Time  \n",
      "3         $203,350 - $240,240 a year     221795.00            High  Full-Time  \n",
      "5         $197,000 - $291,000 a year     244000.00            High  Full-Time  \n",
      "6         $128,250 - $195,000 a year     161625.00          Medium  Full-Time  \n",
      "7   $293,755.64 - $459,791.43 a year     188413.25          Medium  Full-Time  \n",
      "8          $70,000 - $120,000 a year      95000.00             Low  Full-Time  \n",
      "9   $138,257.60 - $200,512.00 a year      84707.25             Low  Full-Time  \n",
      "15  $122,990.40 - $184,579.20 a year      76907.25             Low  Full-Time  \n",
      "22        $152,000 - $215,000 a year     183500.00          Medium  Full-Time  \n"
     ]
    }
   ],
   "source": [
    "# 15. Save Cleaned Data for Tableau\n",
    "keep_cols = [\n",
    "    'company', 'location', 'description', 'positionname',\n",
    "    'salary', 'salary_clean', 'salary_category', 'job_type'\n",
    "]\n",
    "keep_cols = [c for c in keep_cols if c in df.columns]\n",
    "clean_df = df[keep_cols].drop_duplicates()\n",
    "\n",
    "clean_df.to_csv(\"cleaned_jobs_tableau_FINAL_PRO.csv\", index=False, encoding=\"utf-8-sig\")\n",
    "print(\"\\n Exported cleaned Tableau dataset successfully!\")\n",
    "print(\" File: cleaned_jobs_tableau_FINAL_PRO.csv\")\n",
    "print(clean_df.head(10))"
   ]
  },
  {
   "cell_type": "code",
   "execution_count": null,
   "id": "619ea34f-e05b-499f-82d1-1c0bab594636",
   "metadata": {},
   "outputs": [],
   "source": []
  }
 ],
 "metadata": {
  "kernelspec": {
   "display_name": "Python [conda env:base] *",
   "language": "python",
   "name": "conda-base-py"
  },
  "language_info": {
   "codemirror_mode": {
    "name": "ipython",
    "version": 3
   },
   "file_extension": ".py",
   "mimetype": "text/x-python",
   "name": "python",
   "nbconvert_exporter": "python",
   "pygments_lexer": "ipython3",
   "version": "3.13.5"
  }
 },
 "nbformat": 4,
 "nbformat_minor": 5
}
